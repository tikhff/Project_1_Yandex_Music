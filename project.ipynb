Preparing data and studying general information
import pandas aspd # importing the pandas library
Let's read the yandex_music_project.csv file from the /datasets folder and save it in the df variable:

df = pd.read_csv('/datasets/yandex_music_project.csv') # reading a data file and saving it to dfm
Let's display the first ten rows of the table:

print(df.head(10)) # получение первых 10 строк таблицы df
     userID                        Track            artist   genre  \
0  FFB692EC            Kamigata To Boots  The Mass Missile    rock   
1  55204538  Delayed Because of Accident  Andreas Rönnberg    rock   
2    20EC38            Funiculì funiculà       Mario Lanza     pop   
3  A3DD03C9        Dragons in the Sunset        Fire + Ice    folk   
4  E2DC1FAE                  Soul People        Space Echo   dance   
5  842029A1                    Преданная         IMPERVTOR  rusrap   
6  4CB90AA5                         True      Roman Messer   dance   
7  F03E1C1F             Feeling This Way   Polina Griffith   dance   
8  8FA1D3BE     И вновь продолжается бой               NaN  ruspop   
9  E772D5C0                    Pessimist               NaN   dance   

             City        time        Day  
0  Saint-Petersburg  20:28:33  Wednesday  
1            Moscow  14:07:09     Friday  
2  Saint-Petersburg  20:58:07  Wednesday  
3  Saint-Petersburg  08:37:09     Monday  
4            Moscow  08:34:34     Monday  
5  Saint-Petersburg  13:09:41     Friday  
6            Moscow  13:00:07  Wednesday  
7            Moscow  20:47:49  Wednesday  
8            Moscow  09:17:40     Friday  
9  Saint-Petersburg  21:20:49  Wednesday  
df.info() # получение общей информации о данных в таблице df
<class 'pandas.core.frame.DataFrame'>
RangeIndex: 65079 entries, 0 to 65078
Data columns (total 7 columns):
 #   Column    Non-Null Count  Dtype 
---  ------    --------------  ----- 
 0     userID  65079 non-null  object
 1   Track     63848 non-null  object
 2   artist    57876 non-null  object
 3   genre     63881 non-null  object
 4     City    65079 non-null  object
 5   time      65079 non-null  object
 6   Day       65079 non-null  object
dtypes: object(7)
memory usage: 3.5+ MB
В таблице семь столбцов. Тип данных во всех столбцах — object. Количество значений в столбцах различается. Значит, в данных есть пропущенные значения.

Выводы:

Предварительно можно утверждать, что данных достаточно для проверки гипотез. Но встречаются пропуски в данных, а в названиях колонок — расхождения с хорошим стилем.

Чтобы двигаться дальше, нужно устранить проблемы в данных.
